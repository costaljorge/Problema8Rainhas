{
  "nbformat": 4,
  "nbformat_minor": 0,
  "metadata": {
    "colab": {
      "provenance": [],
      "authorship_tag": "ABX9TyMgsdf5e2vWuFWJ7w370T+o",
      "include_colab_link": true
    },
    "kernelspec": {
      "name": "python3",
      "display_name": "Python 3"
    },
    "language_info": {
      "name": "python"
    }
  },
  "cells": [
    {
      "cell_type": "markdown",
      "metadata": {
        "id": "view-in-github",
        "colab_type": "text"
      },
      "source": [
        "<a href=\"https://colab.research.google.com/github/costaljorge/Problema8Rainhas/blob/main/Problema_8_Rainhas.ipynb\" target=\"_parent\"><img src=\"https://colab.research.google.com/assets/colab-badge.svg\" alt=\"Open In Colab\"/></a>"
      ]
    },
    {
      "cell_type": "markdown",
      "source": [
        "## O problema das 8 rainhas é um quebra-cabeça de xadrez. O desafio é colocar oito rainhas em um tabuleiro de xadrez de 8x8 de forma que nenhuma rainha ameace outra. Em outras palavras, não deve haver duas rainhas na mesma linha, coluna ou diagonal. Este problema, proposto por Max Bezzel em 1848, é um exemplo clássico de um problema de satisfação de restrições e tem muitas variações e extensões. Ele é frequentemente usado em cursos de ciência da computação para ensinar técnicas de pesquisa e algoritmos de backtracking.\n"
      ],
      "metadata": {
        "id": "pejZMIGNd_2_"
      }
    },
    {
      "cell_type": "code",
      "source": [
        "import numpy as np\n",
        "\n",
        "def is_safe(board, row, col):\n",
        "    # Verifica se não há outra rainha na mesma coluna\n",
        "    for i in range(row):\n",
        "        if board[i] == col:\n",
        "            return False\n",
        "\n",
        "        # Verifica diagonal superior esquerda\n",
        "        if board[i] - i == col - row:\n",
        "            return False\n",
        "\n",
        "        # Verifica diagonal superior direita\n",
        "        if board[i] + i == col + row:\n",
        "            return False\n",
        "\n",
        "    return True\n",
        "\n",
        "def solve_n_queens_util(board, row, result):\n",
        "    n = len(board)\n",
        "    if row == n:\n",
        "        return True\n",
        "\n",
        "    for col in range(n):\n",
        "        if is_safe(board, row, col):\n",
        "            board[row] = col\n",
        "            result[row][col] = 'X'\n",
        "            if solve_n_queens_util(board, row + 1, result):\n",
        "                return True\n",
        "            board[row] = -1\n",
        "            result[row][col] = '.'\n",
        "\n",
        "    return False\n",
        "\n",
        "def solve_n_queens(n):\n",
        "    board = [-1] * n\n",
        "    result = np.full((n, n), '.')\n",
        "\n",
        "    if not solve_n_queens_util(board, 0, result):\n",
        "        print(\"Não há solução possível para {} rainhas.\".format(n))\n",
        "        return False\n",
        "\n",
        "    print(\"Solução para {} rainhas:\".format(n))\n",
        "    for row in result:\n",
        "        print(' '.join(row))\n",
        "\n",
        "# Exemplo de uso\n",
        "n = 8  # Número de rainhas\n",
        "solve_n_queens(n)\n"
      ],
      "metadata": {
        "colab": {
          "base_uri": "https://localhost:8080/"
        },
        "id": "W01uKiZyZ78X",
        "outputId": "9ee7f42c-fbe2-4d6f-9c96-f674e9783f25"
      },
      "execution_count": 56,
      "outputs": [
        {
          "output_type": "stream",
          "name": "stdout",
          "text": [
            "Solução para 8 rainhas:\n",
            "X . . . . . . .\n",
            ". . . . X . . .\n",
            ". . . . . . . X\n",
            ". . . . . X . .\n",
            ". . X . . . . .\n",
            ". . . . . . X .\n",
            ". X . . . . . .\n",
            ". . . X . . . .\n"
          ]
        }
      ]
    }
  ]
}